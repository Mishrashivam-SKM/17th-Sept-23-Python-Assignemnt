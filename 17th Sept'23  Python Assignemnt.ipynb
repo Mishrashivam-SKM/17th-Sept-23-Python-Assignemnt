{
 "cells": [
  {
   "cell_type": "markdown",
   "id": "d46b80b5-75b6-40c8-93a8-e80400f48589",
   "metadata": {},
   "source": [
    "For Loop :-"
   ]
  },
  {
   "cell_type": "code",
   "execution_count": 1,
   "id": "30990ff2-0ef4-4600-9d0b-32a2791333dd",
   "metadata": {},
   "outputs": [
    {
     "name": "stdout",
     "output_type": "stream",
     "text": [
      "1\n",
      "2\n",
      "3\n",
      "4\n",
      "5\n",
      "6\n",
      "7\n",
      "8\n",
      "9\n",
      "10\n"
     ]
    }
   ],
   "source": [
    "#Q1] Write a Python program to print numbers from 1 to 10 using a for loop.\n",
    "#iterating the loop/integer i 10 times\n",
    "for i in range(1,11):\n",
    "    print(i)\n",
    "\n"
   ]
  },
  {
   "cell_type": "code",
   "execution_count": 2,
   "id": "efaf8c2a-48c9-4f18-bfe8-d178392f9b3e",
   "metadata": {},
   "outputs": [],
   "source": [
    "#Q2]Explain the difference between a for loop and a while loop in Python.\n",
    "\n",
    "#for loop is used when the number of iterations are known. These are entry controlled loops. For example: print a list of numbers\n",
    "#while loop is used when the number of iterations are unknown. These are exit controlled loops. For example: to reverse a number\n"
   ]
  },
  {
   "cell_type": "code",
   "execution_count": 3,
   "id": "c00064d6-2ad7-4f39-8287-2c6e337a58b4",
   "metadata": {},
   "outputs": [
    {
     "name": "stdout",
     "output_type": "stream",
     "text": [
      "Sum of numbers from 1-100 : 5050\n"
     ]
    }
   ],
   "source": [
    "#Q3]Write a Python program to calculate the sum of all numbers from 1 to 100 using a for loop.\n",
    "#defining the sum_num to zero at start\n",
    "sum_num = 0\n",
    "#iterating num over the range of numbers from 1-100 and then calculating the sum\n",
    "for num in range(1,101):\n",
    "    sum_num += num\n",
    "else:\n",
    "    print(f\"Sum of numbers from 1-100 : {sum_num}\")"
   ]
  },
  {
   "cell_type": "code",
   "execution_count": 5,
   "id": "bf5372aa-e59d-42b5-a88d-563a1d0a1643",
   "metadata": {},
   "outputs": [
    {
     "name": "stdout",
     "output_type": "stream",
     "text": [
      "1\n",
      "2\n",
      "3\n"
     ]
    }
   ],
   "source": [
    "#Q4]How do you iterate through a list using a for loop in Python#\n",
    "#To iterate over a list we use 'in' membership operator\n",
    "#creating list l\n",
    "l = [1,2,3]\n",
    "#here i is used to iterate over the list l\n",
    "for i in l:\n",
    "    print(i)"
   ]
  },
  {
   "cell_type": "code",
   "execution_count": 7,
   "id": "c9687b57-231e-4537-ac4e-76d709cdf3dc",
   "metadata": {},
   "outputs": [
    {
     "name": "stdout",
     "output_type": "stream",
     "text": [
      "List :\n",
      "[1, 2, 3]\n",
      "Product of numbers in list_num :\n",
      "6\n"
     ]
    }
   ],
   "source": [
    "#Q5]Write a Python program to find the product of all elements in a list using a for loop.\n",
    "#creating a list of numbers\n",
    "list_num = [1,2,3]\n",
    "print(f\"List :\\n{list_num}\")\n",
    "#defining the product to 1\n",
    "product = 1\n",
    "#num is used to iterate over the list list_num and calculating the product\n",
    "for num in list_num:\n",
    "    product *= num\n",
    "else:\n",
    "    print(f\"Product of numbers in list_num :\\n{product}\")\n",
    "    "
   ]
  },
  {
   "cell_type": "code",
   "execution_count": 9,
   "id": "b809eee0-1760-4745-a539-3ab3de485bd1",
   "metadata": {},
   "outputs": [
    {
     "name": "stdout",
     "output_type": "stream",
     "text": [
      "Even numbers in range of numbers from range 1-20 :\n",
      "2 4 6 8 10 12 14 16 18 20 "
     ]
    }
   ],
   "source": [
    "#Q6]Create a Python program that prints all even numbers from 1 to 20 using a for loop.\n",
    "#even_num is being iterated in the for loop from range 1-20 and jump value of 2 is given\n",
    "print(\"Even numbers in range of numbers from range 1-20 :\")\n",
    "for even_num in range(2,21,2):\n",
    "    print(even_num,end = \" \")\n",
    "#we can even use an if-else block inside the for loop to acheive this\n"
   ]
  },
  {
   "cell_type": "code",
   "execution_count": 10,
   "id": "b5c2c1eb-051c-473c-b515-bb37c84a29c1",
   "metadata": {},
   "outputs": [
    {
     "name": "stdin",
     "output_type": "stream",
     "text": [
      "Enter the number 5\n"
     ]
    },
    {
     "name": "stdout",
     "output_type": "stream",
     "text": [
      "Factorial of 5 :\n",
      "120\n"
     ]
    }
   ],
   "source": [
    "#Q7]Write a Python program that calculates the factorial of a number using a for loop.\n",
    "#taking the input of num for which the factorial will be calculate from user\n",
    "num = int(input(\"Enter the number\"))\n",
    "#checking if the user entered valid number\n",
    "if num<0:\n",
    "    print(\"Enter valid number\")\n",
    "elif num==0:\n",
    "    print(f\"Factorial of {num} :\\n{1}\")\n",
    "else:\n",
    "    #defining the factorial to 1\n",
    "    factorial = 1\n",
    "    #iterating i over the range of num\n",
    "    for i in range(1,num+1):\n",
    "        factorial *= i\n",
    "    else:\n",
    "         print(f\"Factorial of {num} :\\n{factorial}\")\n",
    "            \n"
   ]
  },
  {
   "cell_type": "code",
   "execution_count": 12,
   "id": "570d961d-a4d8-4fde-a5b1-5fbbeba458f4",
   "metadata": {},
   "outputs": [
    {
     "name": "stdout",
     "output_type": "stream",
     "text": [
      "String :\n",
      "Hello World\n",
      "After iterating throught the characters of a string :\n",
      "Hello World"
     ]
    }
   ],
   "source": [
    "#Q8]How can you iterate through the characters of a string using a for loop in Python?\n",
    "#To iterate through the characters of a string we can use the same approach we did in case of list. \n",
    "#We can use 'in' membership operator and iterate a variable thorugh characters of a string\n",
    "#creating a string s\n",
    "s = \"Hello World\"\n",
    "print(f\"String :\\n{s}\")\n",
    "print(f\"After iterating throught the characters of a string :\")\n",
    "#here character iis used to iterate through characters of string\n",
    "for character in s:\n",
    "    print(character,end=\"\")\n",
    "\n"
   ]
  },
  {
   "cell_type": "code",
   "execution_count": 14,
   "id": "f916cd78-bc8e-4a7d-8bcc-60a76ccd7dd4",
   "metadata": {},
   "outputs": [
    {
     "name": "stdout",
     "output_type": "stream",
     "text": [
      "List :\n",
      "[90, 2, 555]\n",
      "Maximum :\n",
      "555\n"
     ]
    }
   ],
   "source": [
    "#Q9]Write a Python program to find the largest number in a list using a for loop.\n",
    "#creating a list of numbers\n",
    "list_num = [90,2,555]\n",
    "print(f\"List :\\n{list_num}\")\n",
    "max_list_num = list_num[0]\n",
    "#iterating num through the list and comparaing it with max_list_num in the if block and updating it accordingly\n",
    "for num in list_num:\n",
    "    if num>max_list_num:\n",
    "        max_list_num = num\n",
    "else:\n",
    "    print(f\"Maximum :\\n{max_list_num}\")"
   ]
  },
  {
   "cell_type": "code",
   "execution_count": 19,
   "id": "a185b5be-5f69-486c-a3d8-308f6bd7fe84",
   "metadata": {},
   "outputs": [
    {
     "name": "stdin",
     "output_type": "stream",
     "text": [
      "Enter the limit of series you want to generat 10\n"
     ]
    },
    {
     "name": "stdout",
     "output_type": "stream",
     "text": [
      "Fibonacci number of 10 series :\n",
      "0 1 1 2 3 5 8 13 21 34 "
     ]
    }
   ],
   "source": [
    "#Q10]Create a Python program that prints the Fibonacci sequence up to a specified limit using a for loop.\n",
    "#The first two numbers of the sequence are 0 and 1 and the next numbers are generated by calculating sum of previous two numbers\n",
    "a,b = 0,1\n",
    "#taking user input of limit\n",
    "limit = int(input(\"Enter the limit of series you want to generat\"))\n",
    "#iterating of the given limit to generate the series\n",
    "print(f\"Fibonacci number of {limit} series :\")\n",
    "for i in range(limit):\n",
    "    print(a,end=\" \")\n",
    "    #calulating the next number\n",
    "    a,b = b,a+b"
   ]
  },
  {
   "cell_type": "code",
   "execution_count": 21,
   "id": "906e25c8-5e48-4d63-be0b-22e10edd5789",
   "metadata": {},
   "outputs": [
    {
     "name": "stdout",
     "output_type": "stream",
     "text": [
      "String :\n",
      "Hello World\n",
      "Vowel Count :\n",
      "3\n"
     ]
    }
   ],
   "source": [
    "#Q11]Write a Python program to count the number of vowels in a given string using a for loop.\n",
    "#creating a string , counter for vowels and list of vowels to check\n",
    "string = \"Hello World\"\n",
    "counter_vowels = 0\n",
    "list_vowels = ['a', 'e', 'i', 'o', 'u']\n",
    "print(f\"String :\\n{string}\")\n",
    "#character is being iterated over the characters of string and being checked if it is a vowel or not and the counter is updated accordingly\n",
    "for character in string.lower():\n",
    "    if character in list_vowels:\n",
    "        counter_vowels += 1\n",
    "else:\n",
    "    print(f\"Vowel Count :\\n{counter_vowels}\")\n"
   ]
  },
  {
   "cell_type": "code",
   "execution_count": 22,
   "id": "c873923a-f8ad-4868-b571-ecda822f1097",
   "metadata": {},
   "outputs": [
    {
     "name": "stdin",
     "output_type": "stream",
     "text": [
      "Enter the number you want the table of 2\n"
     ]
    },
    {
     "name": "stdout",
     "output_type": "stream",
     "text": [
      "Table of  2 :\n",
      "2 * 1 = 2\n",
      "2 * 2 = 4\n",
      "2 * 3 = 6\n",
      "2 * 4 = 8\n",
      "2 * 5 = 10\n",
      "2 * 6 = 12\n",
      "2 * 7 = 14\n",
      "2 * 8 = 16\n",
      "2 * 9 = 18\n",
      "2 * 10 = 20\n"
     ]
    }
   ],
   "source": [
    "#Q12]Create a Python program that generates a multiplication table for a given number using a for loop.\n",
    "number = int(input(\"Enter the number you want the table of\"))\n",
    "print(f\"Table of  {number} :\")\n",
    "#iterating the loop for range of 1-11 to find the table\n",
    "for i in range(1,11):\n",
    "    print(f\"{number} * {i} = {number*i}\")\n"
   ]
  },
  {
   "cell_type": "code",
   "execution_count": 23,
   "id": "0e64a7ea-2eeb-4556-8dd2-9634d6e1984b",
   "metadata": {},
   "outputs": [
    {
     "name": "stdout",
     "output_type": "stream",
     "text": [
      "List before reversing :\n",
      "[1, 2, 3]\n",
      "List after reversing :\n",
      "[3, 2, 1]\n"
     ]
    }
   ],
   "source": [
    "#Q13]Write a Python program to reverse a list using a for loop.\n",
    "#creating a list l and rev_l\n",
    "l = [1,2,3]\n",
    "rev_l = []\n",
    "print(f\"List before reversing :\\n{l}\")\n",
    "print(\"List after reversing :\")\n",
    "for i in l[::-1]:\n",
    "    rev_l += [i]\n",
    "else:\n",
    "    print(f\"{rev_l}\")\n",
    "    "
   ]
  },
  {
   "cell_type": "code",
   "execution_count": 27,
   "id": "824a5f60-07bd-44db-b47b-34569158b52d",
   "metadata": {},
   "outputs": [
    {
     "name": "stdout",
     "output_type": "stream",
     "text": [
      "List 1 :\n",
      "[1, 2, 3, 4, 5, 1, 2] \n",
      "List 2 :\n",
      "[1, 2, 1, 4, 3, 1, 2]\n",
      "Common Elements :\n",
      "1 2 3 4 "
     ]
    }
   ],
   "source": [
    "#Q14]Write a Python program to find the common elements between two lists using a for loop.\n",
    "#creating two lists l1 and l2\n",
    "#converting it to set to remove the duplicate elements and then typcasting it back to list\n",
    "l1 = [1,2,3,4,5,1,2]\n",
    "l2 = [1,2,1,4,3,1,2]\n",
    "print(f\"List 1 :\\n{l1} \\nList 2 :\\n{l2}\")\n",
    "l1 = list(set([1,2,3,4,5,1,2]))\n",
    "l2 = list(set([1,2,1,4,3,1,2]))\n",
    "print(\"Common Elements :\")\n",
    "#iterating the num in l2 and checking common elements in if block\n",
    "for num in l2:\n",
    "    if num in l1:\n",
    "        print(num,end=\" \")\n",
    "    "
   ]
  },
  {
   "cell_type": "code",
   "execution_count": 30,
   "id": "50968ca0-ba99-48cf-91cf-3add8b6d07ef",
   "metadata": {},
   "outputs": [
    {
     "name": "stdout",
     "output_type": "stream",
     "text": [
      "Dictionary :\n",
      "{'Name': 'Alex', 'Course': 'Data Science'}\n",
      "Key : Name, Value : Alex\n",
      "Key : Course, Value : Data Science\n"
     ]
    }
   ],
   "source": [
    "#Q15]Explain how to use a for loop to iterate through the keys and values of a dictionary in Python.\n",
    "#creating a dictionary dict1\n",
    "dict1 = {'Name':'Alex','Course':'Data Science'}\n",
    "print(f\"Dictionary :\\n{dict1}\")\n",
    "#using two variable 'key' & 'value' to iterate over the dict.items()\n",
    "for key,value in dict1.items():\n",
    "    print(f\"Key : {key}, Value : {value}\")\n"
   ]
  },
  {
   "cell_type": "code",
   "execution_count": 35,
   "id": "77f210fc-78fd-457e-8026-762e36e600fb",
   "metadata": {},
   "outputs": [
    {
     "name": "stdin",
     "output_type": "stream",
     "text": [
      "Enter the number 8\n",
      "Enter the number 4\n"
     ]
    },
    {
     "name": "stdout",
     "output_type": "stream",
     "text": [
      "Greatest Common Divisor of 8 and 4 :\n",
      "4\n"
     ]
    }
   ],
   "source": [
    "#Q16]Write a Python program to find the GCD (Greatest Common Divisor) of two numbers using a for loop.\n",
    "#taking user input of both the numbers & declaring the GCD to 1\n",
    "num1,num2 = int(input(\"Enter the number\")), int(input(\"Enter the number\"))\n",
    "greatest_common_divisor = 1\n",
    "#iterating over the range of minimum number entered and checking the condition for GCD in if block\n",
    "for n in range(1,min(num1,num2)+1):\n",
    "    if num1%n==0 and num2%n==0:\n",
    "        greatest_common_divisor = n\n",
    "else:\n",
    "    print(f\"Greatest Common Divisor of {num1} and {num2} :\\n{greatest_common_divisor}\")\n",
    "        \n"
   ]
  },
  {
   "cell_type": "code",
   "execution_count": 36,
   "id": "b7c95237-e314-41b4-b086-9a627172cb49",
   "metadata": {},
   "outputs": [
    {
     "name": "stdout",
     "output_type": "stream",
     "text": [
      "dad is palindrome\n"
     ]
    }
   ],
   "source": [
    "#Q17]Create a Python program that checks if a string is a palindrome using a for loop.\n",
    "#creating a string s\n",
    "s = \"dad\"\n",
    "rev_s = \"\"\n",
    "#iterating the chracter over the reversed string and storing the reverse of string then comparing it to find if they are palindrome\n",
    "for character in s[::-1]:\n",
    "    rev_s += character\n",
    "else:\n",
    "    if rev_s == s:\n",
    "        print(f\"{s} is palindrome\")\n",
    "    else:\n",
    "        print(f\"{s} is not palindrome\")"
   ]
  },
  {
   "cell_type": "code",
   "execution_count": 39,
   "id": "ba956cfe-2d7c-4f76-81b0-2925d8ea996c",
   "metadata": {},
   "outputs": [
    {
     "name": "stdout",
     "output_type": "stream",
     "text": [
      "[1, 2, 3, 4]\n"
     ]
    }
   ],
   "source": [
    "#Q18]Write a Python program to remove duplicates from a list using a for loop.\n",
    "#creating list of duplicates and unique\n",
    "list_duplicates = [1, 2, 1, 2, 3, 3, 4, 2, 1, 2]\n",
    "list_unique = []\n",
    "#iterating num in list_duplicates\n",
    "for num in list_duplicates:\n",
    "    #removing the duplicates\n",
    "    if num not in list_unique:\n",
    "        list_unique.append(num)\n",
    "\n",
    "print(list_unique)\n"
   ]
  },
  {
   "cell_type": "code",
   "execution_count": 40,
   "id": "566e9b54-4f4f-4756-9e6b-ea47ecd3b158",
   "metadata": {},
   "outputs": [
    {
     "name": "stdout",
     "output_type": "stream",
     "text": [
      "String :\n",
      "Hello World\n",
      "Word Count :\n",
      "2\n"
     ]
    }
   ],
   "source": [
    "#Q19]Create a Python program that counts the number of words in a sentence using a for loop.\n",
    "#creating a string s and word counter\n",
    "s = \"Hello World\"\n",
    "print(f\"String :\\n{s}\")\n",
    "word_counter = 0\n",
    "#iterating over the list of words\n",
    "for word in s.split():\n",
    "    word_counter += 1\n",
    "else:\n",
    "    print(f\"Word Count :\\n{word_counter}\")\n"
   ]
  },
  {
   "cell_type": "code",
   "execution_count": 41,
   "id": "1307db8c-c2f0-4540-8a11-eb85fac05519",
   "metadata": {},
   "outputs": [
    {
     "name": "stdout",
     "output_type": "stream",
     "text": [
      "Sum of odd numbers from 1-50 :\n",
      "625\n"
     ]
    }
   ],
   "source": [
    "#Q20]Write a Python program to find the sum of all odd numbers from 1 to 50 using a for loop.\n",
    "sum_odd = 0\n",
    "#iterating odd_num for range of 1-50 with jump 2\n",
    "for odd_num in range(1,50,2):\n",
    "    sum_odd += odd_num\n",
    "else:\n",
    "    print(f\"Sum of odd numbers from 1-50 :\\n{sum_odd}\")\n",
    "    #we can acheive this by using different methods too"
   ]
  },
  {
   "cell_type": "code",
   "execution_count": 9,
   "id": "49c7e367-5ba0-4d27-8b8c-718ff276c113",
   "metadata": {},
   "outputs": [
    {
     "name": "stdin",
     "output_type": "stream",
     "text": [
      "Enter the year 2024\n"
     ]
    },
    {
     "name": "stdout",
     "output_type": "stream",
     "text": [
      "2024 is leap year\n"
     ]
    }
   ],
   "source": [
    "#Q21]Write a Python program that checks if a given year is a leap year using a for loop.\n",
    "#taking input of the year\n",
    "year = int(input(\"Enter the year\"))\n",
    "for y in range(1900,year+1,4):\n",
    "    if (y % 100 != 0 or (y % 100 == 0 and y % 400 == 0)) and y==year:\n",
    "        print(f\"{year} is leap year\")\n",
    "        break\n",
    "else:\n",
    "    print(f\"{year} is not a leap year\")\n"
   ]
  },
  {
   "cell_type": "code",
   "execution_count": 23,
   "id": "4a2e8d91-fcfa-4ec7-9a8a-26b3fd945416",
   "metadata": {},
   "outputs": [
    {
     "name": "stdin",
     "output_type": "stream",
     "text": [
      "Enter the number 3\n"
     ]
    },
    {
     "name": "stdout",
     "output_type": "stream",
     "text": [
      "Square Root of 3 : 1.7320508075688772\n"
     ]
    }
   ],
   "source": [
    "#Q22]Create a Python program that calculates the square root of a honumber using a for loop.\n",
    "import math\n",
    "num = int(input(\"Enter the number\"))\n",
    "for i in range(1,num+1):\n",
    "    if num%i==0 and i**2==num:\n",
    "        print(f\"Square Root of {num} : {i}\")\n",
    "        break\n",
    "else:\n",
    "    print(f\"Square Root of {num} : {math.sqrt(num)}\")"
   ]
  },
  {
   "cell_type": "code",
   "execution_count": 42,
   "id": "32cbf380-b37c-4ada-b108-d593767698b8",
   "metadata": {},
   "outputs": [
    {
     "name": "stdin",
     "output_type": "stream",
     "text": [
      "Enter the number 0\n"
     ]
    },
    {
     "name": "stdout",
     "output_type": "stream",
     "text": [
      "0.0 is Zero\n"
     ]
    }
   ],
   "source": [
    "#Q1]Write a Python program to check if a number is positive, negative, or zero using an if-else statement\n",
    "num = float(input(\"Enter the number\"))\n",
    "#checking the condition for num\n",
    "if num>0:\n",
    "    print(f\"{num} is Positive\")\n",
    "else:\n",
    "    if num==0:\n",
    "        print(f\"{num} is Zero\")\n",
    "    else:\n",
    "        print(f\"{num} is Negative\")"
   ]
  },
  {
   "cell_type": "code",
   "execution_count": 43,
   "id": "83a2e1d1-0211-4f96-a0cd-8aa2c7f05769",
   "metadata": {},
   "outputs": [
    {
     "name": "stdin",
     "output_type": "stream",
     "text": [
      "Enter the number 3\n"
     ]
    },
    {
     "name": "stdout",
     "output_type": "stream",
     "text": [
      "3 is Odd\n"
     ]
    }
   ],
   "source": [
    "#Q2]Create a Python program that checks if a given number is even or odd using an if-else statement\n",
    "num = int(input(\"Enter the number\"))\n",
    "#checking the condition for even and odd\n",
    "if num%2==0:\n",
    "    print(f\"{num} is Even\")\n",
    "else:\n",
    "    print(f\"{num} is Odd\")"
   ]
  },
  {
   "cell_type": "code",
   "execution_count": 45,
   "id": "d3e95bbe-6538-4465-bfa9-8a8fb712c2fd",
   "metadata": {},
   "outputs": [
    {
     "name": "stdin",
     "output_type": "stream",
     "text": [
      "Enter the number 1\n"
     ]
    },
    {
     "name": "stdout",
     "output_type": "stream",
     "text": [
      "1.0 is Positive\n"
     ]
    }
   ],
   "source": [
    "#Q3]How can you use nested if-else statements in Python, and provide an example?\n",
    "#we can use if-else inside and if or else block to acheive nested if else statements. \n",
    "#Example:\n",
    "num = float(input(\"Enter the number\"))\n",
    "#checking the condition for num\n",
    "if num>0:\n",
    "    print(f\"{num} is Positive\")\n",
    "else:\n",
    "    if num==0:\n",
    "        print(f\"{num} is Zero\")\n",
    "    else:\n",
    "        print(f\"{num} is Negative\")"
   ]
  },
  {
   "cell_type": "code",
   "execution_count": 46,
   "id": "7e58641a-dbbb-4c3e-b8a8-006a40613ede",
   "metadata": {},
   "outputs": [
    {
     "name": "stdin",
     "output_type": "stream",
     "text": [
      "Enter the number 10\n",
      "Enter the number 200\n",
      "Enter the number 0\n"
     ]
    },
    {
     "name": "stdout",
     "output_type": "stream",
     "text": [
      "200.0 is greatest\n"
     ]
    }
   ],
   "source": [
    "#Q4]Write a Python program to determine the largest of three numbers using if-else.\n",
    "#taking user of three numbers\n",
    "num1, num2, num3 = float(input(\"Enter the number\")), float(input(\"Enter the number\")), float(input(\"Enter the number\"))\n",
    "#checking the conditions for greatest number is each if\n",
    "if num1>num2:\n",
    "    if num1>num3:\n",
    "        print(f\"{num1} is greatest\")\n",
    "    else:\n",
    "        print(f\"{num3} is greatest\")\n",
    "else:\n",
    "    if num2>num3:\n",
    "        print(f\"{num2} is greatest\")\n",
    "    else:\n",
    "        print(f\"{num3} is greatest\")"
   ]
  },
  {
   "cell_type": "code",
   "execution_count": 47,
   "id": "892a7e99-95ab-4283-9582-c0a814d47017",
   "metadata": {},
   "outputs": [
    {
     "name": "stdin",
     "output_type": "stream",
     "text": [
      "Enter the number -2\n"
     ]
    },
    {
     "name": "stdout",
     "output_type": "stream",
     "text": [
      "Absolute of -2.0 :\n",
      "2.0\n"
     ]
    }
   ],
   "source": [
    "#Q5]Write a Python program that calculates the absolute value of a number using if-else\n",
    "#taking user input of number\n",
    "num = float(input(\"Enter the number\"))\n",
    "#checking if entered number is negative or positive.\n",
    "#converting it to positive accordingly\n",
    "if num<0:\n",
    "    print(f\"Absolute of {num} :\\n{-num}\")\n",
    "else:\n",
    "    print(f\"Absolute of {num} :\\n{num}\")"
   ]
  },
  {
   "cell_type": "code",
   "execution_count": 49,
   "id": "cbce0977-0f58-46a0-bffc-cec30d542fa8",
   "metadata": {},
   "outputs": [
    {
     "name": "stdin",
     "output_type": "stream",
     "text": [
      "Enter the character c\n"
     ]
    },
    {
     "name": "stdout",
     "output_type": "stream",
     "text": [
      "c is a consonant\n"
     ]
    }
   ],
   "source": [
    "#Q6]Create a Python program that checks if a given character is a vowel or consonant using if-else\n",
    "#taking user input of character\n",
    "vowels_list = ['a', 'e', 'i', 'o', 'u']\n",
    "char = input(\"Enter the character\")\n",
    "#checking if the user entered string or character and it is alphabet\n",
    "if len(char) == 1 and char.isalpha():\n",
    "    #checking if char is vowel or consonant\n",
    "    if char.lower() in vowels_list:\n",
    "        print(f\"'{char}' is an vowel\")\n",
    "    else:\n",
    "        print(f\"{char} is a consonant\")\n",
    "else:\n",
    "    print(\"Enter valid character alphabet\")\n",
    "    "
   ]
  },
  {
   "cell_type": "code",
   "execution_count": 50,
   "id": "3579d1a6-32ec-46af-8d90-759bf9904c74",
   "metadata": {},
   "outputs": [
    {
     "name": "stdin",
     "output_type": "stream",
     "text": [
      "Enter your age 19\n"
     ]
    },
    {
     "name": "stdout",
     "output_type": "stream",
     "text": [
      "Eligible to vote\n"
     ]
    }
   ],
   "source": [
    "#Q7]Write a Python program to determine if a user is eligible to vote based on their age using if-else.\n",
    "age = int(input(\"Enter your age\"))\n",
    "#checking the condition of age to vote\n",
    "if 0<age<18:\n",
    "    print(\"Ineligible to vote\")\n",
    "if 18<=age<120:\n",
    "    print(\"Eligible to vote\")\n",
    "else:\n",
    "    print(\"Enter valid age\")"
   ]
  },
  {
   "cell_type": "code",
   "execution_count": 56,
   "id": "1e1c93fd-7e48-4025-af0a-a4f607d04375",
   "metadata": {},
   "outputs": [
    {
     "name": "stdin",
     "output_type": "stream",
     "text": [
      "Enter the totale purchase amount 10000\n"
     ]
    },
    {
     "name": "stdout",
     "output_type": "stream",
     "text": [
      "Purchase Amount : 10000.0\n",
      "Dicount Amount : 1000.0\n"
     ]
    }
   ],
   "source": [
    "#Q8]Create a Python program that calculates the discount amount based on the purchase amount using if-else.\n",
    "purchase_amount = float(input(\"Enter the totale purchase amount\"))\n",
    "print(f\"Purchase Amount : {purchase_amount}\")\n",
    "#checking the condtions for discount and calulating it\n",
    "if 0<purchase_amount < 5000:\n",
    "    discount_amount = 0.05*purchase_amount\n",
    "    print(f\"Dicount Amount : {discount_amount}\")\n",
    "else:\n",
    "    if purchase_amount <= 10000:\n",
    "        discount_amount = 0.1*purchase_amount\n",
    "        print(f\"Dicount Amount : {discount_amount}\")\n",
    "    else:\n",
    "        if purchase_amount > 10000:\n",
    "            discount_amount = 0.15*purchase_amount\n",
    "            print(f\"Dicount Amount : {discount_amount}\")\n",
    "        else:\n",
    "            print(f\"Dicount Amount : {0}\")\n",
    "            "
   ]
  },
  {
   "cell_type": "code",
   "execution_count": 58,
   "id": "7d7c0c45-749f-4fab-9d53-c6a015353e2c",
   "metadata": {},
   "outputs": [
    {
     "name": "stdin",
     "output_type": "stream",
     "text": [
      "Enter the number 10\n"
     ]
    },
    {
     "name": "stdout",
     "output_type": "stream",
     "text": [
      "10 is in specified range\n"
     ]
    }
   ],
   "source": [
    "#Q9]Write a Python program to check if a number is within a specified range using if-else.\n",
    "number = int(input(\"Enter the number\")) \n",
    "#checking the condition for specified range\n",
    "if number in list(range(1,101)):\n",
    "    print(f\"{number} is in specified range\")\n",
    "else:\n",
    "    print(f\"{number} is not in specified range\")"
   ]
  },
  {
   "cell_type": "code",
   "execution_count": 59,
   "id": "4e3af0b1-4b56-4429-be44-097293f33b9e",
   "metadata": {},
   "outputs": [
    {
     "name": "stdin",
     "output_type": "stream",
     "text": [
      "Enter the percentage scored 90\n"
     ]
    },
    {
     "name": "stdout",
     "output_type": "stream",
     "text": [
      "A+\n"
     ]
    }
   ],
   "source": [
    "#Q10]Create a Python program that determines the grade of a student based on their score using if-else.\n",
    "#taking input of score from user\n",
    "score = float(input(\"Enter the percentage scored\"))\n",
    "#checking if the score entered is valid or not\n",
    "if 0<=score<=100:\n",
    "    if score>=90:\n",
    "        print(\"A+\")\n",
    "    else:\n",
    "        if score>=80:\n",
    "            print(\"A\")\n",
    "        else:\n",
    "            if score>=70:\n",
    "                print(\"B+\")\n",
    "            else:\n",
    "                if score>=60:\n",
    "                    print(\"B\")\n",
    "                else:\n",
    "                    if score>=50:\n",
    "                        print(\"C+\")\n",
    "                    else:\n",
    "                        if score>=35:\n",
    "                            print(\"C\")\n",
    "                        else:\n",
    "                            print(\"Fail\")\n",
    "else:\n",
    "    print(\"Enter valid score\")\n"
   ]
  },
  {
   "cell_type": "code",
   "execution_count": 61,
   "id": "1f7bab07-cf14-4c03-99ee-9f62621b5416",
   "metadata": {},
   "outputs": [
    {
     "name": "stdin",
     "output_type": "stream",
     "text": [
      "Enter the string \n"
     ]
    },
    {
     "name": "stdout",
     "output_type": "stream",
     "text": [
      "String is Empty\n"
     ]
    }
   ],
   "source": [
    "#Q11]Write a Python program to check if a string is empty or not using if-else.\n",
    "#taking user input of string s\n",
    "s = input(\"Enter the string\")\n",
    "#checking the conditions for empty and not empty string\n",
    "if len(s)>0:\n",
    "    print(\"String is not Empty\")\n",
    "else:\n",
    "    print(\"String is Empty\")"
   ]
  },
  {
   "cell_type": "code",
   "execution_count": 63,
   "id": "c1c4f944-3c53-4c82-a0ad-0349ed5bc66b",
   "metadata": {},
   "outputs": [
    {
     "name": "stdin",
     "output_type": "stream",
     "text": [
      "Enter the number 2\n",
      "Enter the number 3\n",
      "Enter the number 2\n"
     ]
    },
    {
     "name": "stdout",
     "output_type": "stream",
     "text": [
      "Isosceles Triangle\n"
     ]
    }
   ],
   "source": [
    "#Q12]Create a Python program that identifies the type of a triangle (e.g., equilateral, isosceles, or scalene) based on input values using if-else.\n",
    "#taking input from the user\n",
    "s1,s2,s3 = float(input(\"Enter the number\")), float(input(\"Enter the number\")), float(input(\"Enter the number\"))\n",
    "#comparing the sides to find out which triangle is it and checking the validity of each side\n",
    "if s1>0 and s2>0 and s3>0:\n",
    "    if s1==s2==s3 :\n",
    "        print(\"Equilateral Triangle\")\n",
    "    else:\n",
    "        if s1!=s2!=s3 and s1!=s3!=s2:\n",
    "            print(\"Scalene Triangle\")\n",
    "        else:\n",
    "            print(\"Isosceles Triangle\")\n",
    "else:\n",
    "    print(\"Enter valid sides\")\n"
   ]
  },
  {
   "cell_type": "code",
   "execution_count": 64,
   "id": "30134c42-d2a1-4517-9953-877005fc1c80",
   "metadata": {},
   "outputs": [
    {
     "name": "stdin",
     "output_type": "stream",
     "text": [
      "Enter the day 3\n"
     ]
    },
    {
     "name": "stdout",
     "output_type": "stream",
     "text": [
      "Tuesday\n"
     ]
    }
   ],
   "source": [
    "#Q13]Write a Python program to determine the day of the week based on a user-provided number using if-else.\n",
    "#taking user input\n",
    "day = int(input(\"Enter the day\"))\n",
    "week = ['Sunday', 'Monday', 'Tuesday', 'Wednesday', 'Thursday', 'Friday', 'Saturday']\n",
    "#checking the validity of the entered day and printing the day accordingly\n",
    "if 0<day<7:\n",
    "    print(week[day-1])\n",
    "else:\n",
    "    if day<0:\n",
    "        print(\"Enter valid day\")\n",
    "    else:\n",
    "        #finding %7 as 1 week contains 7 days adn entered day is greater than 7\n",
    "        day %= 7\n",
    "        print(week[day])\n"
   ]
  },
  {
   "cell_type": "code",
   "execution_count": 66,
   "id": "32dc4bf2-7794-4f30-b88f-36a4c58bd910",
   "metadata": {},
   "outputs": [
    {
     "name": "stdin",
     "output_type": "stream",
     "text": [
      "Enter the year 2024\n"
     ]
    },
    {
     "name": "stdout",
     "output_type": "stream",
     "text": [
      "2024 is leap year\n",
      "Leap year using function\n"
     ]
    }
   ],
   "source": [
    "#Q14]Create a Python program that checks if a given year is a leap year using both if-else and a function.\n",
    "#creaitng a function\n",
    "def leap_year(year):\n",
    "    if year>0:\n",
    "        if year%4==0 and (year%100!=0 or year%400==0):\n",
    "            return True\n",
    "        else:\n",
    "            return False\n",
    "    else:\n",
    "        print(\"Enter valid year\")\n",
    "\n",
    "#taking user input for the year\n",
    "year = int(input(\"Enter the year\"))\n",
    "#using if-else\n",
    "#checking if the year entered is valid or not\n",
    "if year>0:\n",
    "    #checking the condition for leap year\n",
    "    if year%4==0 and (year%100!=0 or year%400==0):\n",
    "        print(f\"{year} is leap year\")\n",
    "    else:\n",
    "        print(f\"{year} is not a leap year\")\n",
    "else:\n",
    "    print(\"Enter valid year\")\n",
    "#using a function\n",
    "if leap_year(year):\n",
    "    print(\"Leap year using function\")\n",
    "else:\n",
    "    print(\"Not leap year using function\")"
   ]
  },
  {
   "cell_type": "code",
   "execution_count": 68,
   "id": "e765ebbb-80a7-4e52-834c-193c36b19bc4",
   "metadata": {},
   "outputs": [
    {
     "name": "stdin",
     "output_type": "stream",
     "text": [
      "Enter the string s\n"
     ]
    },
    {
     "ename": "AssertionError",
     "evalue": "Cannot split single character string",
     "output_type": "error",
     "traceback": [
      "\u001b[0;31m---------------------------------------------------------------------------\u001b[0m",
      "\u001b[0;31mAssertionError\u001b[0m                            Traceback (most recent call last)",
      "Cell \u001b[0;32mIn[68], line 9\u001b[0m\n\u001b[1;32m      7\u001b[0m     \u001b[38;5;28mprint\u001b[39m(s\u001b[38;5;241m.\u001b[39msplit())\n\u001b[1;32m      8\u001b[0m \u001b[38;5;28;01melse\u001b[39;00m:\n\u001b[0;32m----> 9\u001b[0m     \u001b[38;5;28;01massert\u001b[39;00m \u001b[38;5;28;01mFalse\u001b[39;00m, \u001b[38;5;124m\"\u001b[39m\u001b[38;5;124mCannot split single character string\u001b[39m\u001b[38;5;124m\"\u001b[39m\n",
      "\u001b[0;31mAssertionError\u001b[0m: Cannot split single character string"
     ]
    }
   ],
   "source": [
    "#Q15]How do you use the \"assert\" statement in Python to add debugging checks within if-else blocks?\n",
    "#In Python, the assert statement is used to assert that a certain condition is true. It's commonly used for debugging purposes to check that assumptions made by the programmer hold true during execution.\n",
    "#Example:\n",
    "#taking input of string\n",
    "s = input(\"Enter the string\")\n",
    "if len(s)>1:\n",
    "    print(s.split())\n",
    "else:\n",
    "    assert False, \"Cannot split single character string\""
   ]
  },
  {
   "cell_type": "code",
   "execution_count": 71,
   "id": "b4e93a01-f857-43c0-9553-dac4e95ad0f2",
   "metadata": {},
   "outputs": [
    {
     "name": "stdin",
     "output_type": "stream",
     "text": [
      "Enter your age 65\n"
     ]
    },
    {
     "name": "stdout",
     "output_type": "stream",
     "text": [
      "Eligible for discount\n"
     ]
    }
   ],
   "source": [
    "#Q16]Create a Python program that determines the eligibility of a person for a senior citizen discount based on age using if-else.\n",
    "age = int(input(\"Enter your age\"))\n",
    "#checking the condition for discount\n",
    "if 0<age<65:\n",
    "    print(\"Ineligible for discount\")\n",
    "if 65<=age<120:\n",
    "    print(\"Eligible for discount\")\n",
    "else:\n",
    "    assert False, \"Enter Valid Age\""
   ]
  },
  {
   "cell_type": "code",
   "execution_count": 74,
   "id": "a750d5ce-d03e-4c33-b10a-73d4f4c0b616",
   "metadata": {},
   "outputs": [
    {
     "name": "stdin",
     "output_type": "stream",
     "text": [
      "Enter the character s\n"
     ]
    },
    {
     "name": "stdout",
     "output_type": "stream",
     "text": [
      "s is a lowercase\n"
     ]
    }
   ],
   "source": [
    "#Q17]Write a Python program to categorize a given character as uppercase, lowercase, or neither using if-else.\n",
    "char = input(\"Enter the character\")\n",
    "#checking if the user entered string or character \n",
    "if len(char) == 1:\n",
    "    #checking if char is upperlower or neither\n",
    "    if char.isupper():\n",
    "        print(f\"'{char}' is in uppercase\")\n",
    "    else:\n",
    "        if char.islower():\n",
    "            print(f\"{char} is a lowercase\")\n",
    "        else:\n",
    "            print(f\"{char} is neither\")\n",
    "else:\n",
    "    print(\"Enter valid character alphabet\")\n",
    "    "
   ]
  },
  {
   "cell_type": "code",
   "execution_count": 32,
   "id": "b6f4caff-3b6c-4ad0-83f5-e9b6f545c69f",
   "metadata": {},
   "outputs": [
    {
     "name": "stdin",
     "output_type": "stream",
     "text": [
      "Enter the number 1\n",
      "Enter the number 5\n",
      "Enter the number 6\n"
     ]
    },
    {
     "name": "stdout",
     "output_type": "stream",
     "text": [
      "The quadratic equation has two real roots.\n",
      "Root 1 : -2.0 \n",
      "Root 2 : -3.0\n"
     ]
    }
   ],
   "source": [
    "#Q18]Write a Python program to determine the roots of a quadratic equation using if-else.\n",
    "import math\n",
    "\n",
    "a, b, c = [int(input(\"Enter the number\")) for i in range(3)]\n",
    "D = b**2 - 4*a*c\n",
    "x1 = (-b + math.sqrt(D)) / (2*a)\n",
    "x2 = (-b - math.sqrt(D)) / (2*a)\n",
    "root1 = a*x1**2 + b*x1 + c\n",
    "root2 = a*x2**2 + b*x2 + c\n",
    "\n",
    "if D > 0:\n",
    "    print(\"The quadratic equation has two real roots.\")\n",
    "    print(f\"Root 1 : {x1} \\nRoot 2 : {x2}\")\n",
    "elif D == 0:\n",
    "    print(\"The quadratic equation has one real root (the roots are repeated)\")\n",
    "    print(f\"Root : {x1}\")\n",
    "elif D < 0:\n",
    "    print(\"The quadratic equation has two complex roots.\")\n",
    "    print(f\"Root 1 : {x1} \\nRoot 2 : {x2}\")\n",
    "\n"
   ]
  },
  {
   "cell_type": "code",
   "execution_count": 78,
   "id": "de959e1f-d7cc-4a0c-9119-468df184ba4d",
   "metadata": {},
   "outputs": [
    {
     "name": "stdin",
     "output_type": "stream",
     "text": [
      "Enter a year:  2000\n"
     ]
    },
    {
     "name": "stdout",
     "output_type": "stream",
     "text": [
      "2000 is a century year\n"
     ]
    }
   ],
   "source": [
    "#Q19]Create a Python program that checks if a given year is a century year or not using if-else.\n",
    "\n",
    "# Input year\n",
    "year = int(input(\"Enter a year: \"))\n",
    "\n",
    "# Check if the year is a century year\n",
    "if year % 100 == 0:\n",
    "    print(f\"{year} is a century year\")\n",
    "else:\n",
    "    print(f\"{year} is not a century year\")\n"
   ]
  },
  {
   "cell_type": "code",
   "execution_count": 86,
   "id": "9dab8e70-ca37-4fbc-9621-3f3d28931e5a",
   "metadata": {},
   "outputs": [
    {
     "name": "stdin",
     "output_type": "stream",
     "text": [
      "Enter the number 25\n"
     ]
    },
    {
     "name": "stdout",
     "output_type": "stream",
     "text": [
      "perfect square\n"
     ]
    }
   ],
   "source": [
    "#Q20]Write a Python program to determine if a given number is a perfect square using if-else.\n",
    "num = int(input(\"Enter the number\"))\n",
    "import math\n",
    "#checking the condition for perfect square\n",
    "if math.sqrt(num)**2==num:\n",
    "    print(\"perfect square\")\n",
    "else:\n",
    "    print(\"Not a perfect square\")"
   ]
  },
  {
   "cell_type": "code",
   "execution_count": 88,
   "id": "5c8b9244-99cd-42ac-9b92-d9019289c970",
   "metadata": {},
   "outputs": [
    {
     "name": "stdout",
     "output_type": "stream",
     "text": [
      "1 is odd\n",
      "2 is even\n",
      "3 is odd\n",
      "4 is even\n",
      "5 is odd\n",
      "6 is even\n",
      "Breaking the loop at 7\n"
     ]
    }
   ],
   "source": [
    "#Q21]Explain the purpose of the \"continue\" and \"break\" statements within if-else loops.\n",
    "#continue is used for skiping a particular iteration in within if-else loops\n",
    "#break is used to exit the loop when a particular condition is satisfied in if-else loops\n",
    "# Example of using break and continue in a loop\n",
    "\n",
    "# Iterate over numbers from 1 to 10\n",
    "for i in range(1, 11):\n",
    "    # Check if the number is even\n",
    "    if i % 2 == 0:\n",
    "        print(f\"{i} is even\")\n",
    "        # Continue to the next iteration without executing the remaining code in the loop\n",
    "        continue\n",
    "    # Check if the number is greater than 5\n",
    "    if i > 5:\n",
    "        print(f\"Breaking the loop at {i}\")\n",
    "        # Break out of the loop if the number is greater than 5\n",
    "        break\n",
    "    # Print the number\n",
    "    print(f\"{i} is odd\")\n"
   ]
  },
  {
   "cell_type": "code",
   "execution_count": 90,
   "id": "40b94b29-7fcb-4bfd-a3a1-3d0f102d7f47",
   "metadata": {},
   "outputs": [
    {
     "name": "stdin",
     "output_type": "stream",
     "text": [
      "Enter you weight in kg 82\n",
      "Enter the height in meters 1.80339989\n"
     ]
    },
    {
     "name": "stdout",
     "output_type": "stream",
     "text": [
      "Obese\n"
     ]
    }
   ],
   "source": [
    "#Q22]Create a Python program that calculates the BMI (Body Mass Index) of a person based on their weight and height using if-else.\n",
    "weight = float(input(\"Enter you weight in kg\"))\n",
    "height = float(input(\"Enter the height in meters\"))\n",
    "body_mass_index = weight/height\n",
    "#checking the conditions for bmi\n",
    "if body_mass_index<18.5:\n",
    "    print(\"Underweight\")\n",
    "else:\n",
    "    if 18.5<=body_mass_index<=24.9:\n",
    "        print(\"Normal weight\")\n",
    "    else:\n",
    "        if 25<=body_mass_index<=29.9:\n",
    "            print(\"Overweight\")\n",
    "        else:\n",
    "            if body_mass_index>=30:\n",
    "                print(\"Obese\")\n",
    "            else:\n",
    "                print(\"Enter valid weight and height\")\n"
   ]
  },
  {
   "cell_type": "code",
   "execution_count": 103,
   "id": "40dbc220-8c1f-4ae5-9834-aca6d4c09ee6",
   "metadata": {},
   "outputs": [
    {
     "name": "stdin",
     "output_type": "stream",
     "text": [
      "Enter 'y' to filter string out y\n"
     ]
    },
    {
     "name": "stdout",
     "output_type": "stream",
     "text": [
      "[1, 2, 3]\n"
     ]
    }
   ],
   "source": [
    "#Q23]How can you use the \"filter()\" function with if-else statements to filter elements from a list?\n",
    "#Example:\n",
    "#create a list l\n",
    "l = [1,2,3,'s']\n",
    "ch = input(\"Enter 'y' to filter string out\").lower()\n",
    "if ch=='y':\n",
    "    print(list(filter(lambda x: type(x) != str, l)))\n",
    "else:\n",
    "    print(l)"
   ]
  },
  {
   "cell_type": "code",
   "execution_count": 31,
   "id": "ac8ba338-8f75-45ab-966a-92267eac6618",
   "metadata": {},
   "outputs": [
    {
     "name": "stdin",
     "output_type": "stream",
     "text": [
      "Enter the num 5\n"
     ]
    },
    {
     "name": "stdout",
     "output_type": "stream",
     "text": [
      "Prime\n"
     ]
    }
   ],
   "source": [
    "#Q24]\n",
    "#creating a function to check for prime\n",
    "def prime(x):\n",
    "    c = 0\n",
    "    for i in range(2,x+1//2):\n",
    "        if x%i==0:\n",
    "            return False\n",
    "    return True\n",
    "x = int(input(\"Enter the num\"))\n",
    "if prime(x):\n",
    "    print(\"Prime\")\n",
    "else:\n",
    "    print(\"Not Prime\")"
   ]
  },
  {
   "cell_type": "markdown",
   "id": "b9cbdc5e-ad9d-4a14-859e-a38a0e6f064f",
   "metadata": {},
   "source": [
    "Map :-"
   ]
  },
  {
   "cell_type": "code",
   "execution_count": 108,
   "id": "e9ad5c4f-65e1-45a1-8113-d53e828c986e",
   "metadata": {},
   "outputs": [
    {
     "name": "stdout",
     "output_type": "stream",
     "text": [
      "List before multiplication : [1, 2, 3, 4] \n",
      "List after multiplication : [2, 4, 6, 8]\n"
     ]
    }
   ],
   "source": [
    "#Q1]Explain the purpose of the `map()` function in Python and provide an example of how it can be used to apply a function to each element of an iterable.\n",
    "#map() function in python can be used to apply a particular operation on each element of an iterable\n",
    "#Example:\n",
    "#multiply all the elements by 2\n",
    "list_l = [1,2,3,4]\n",
    "print(f\"List before multiplication : {list_l} \\nList after multiplication : {list(map(lambda x: x*2, list_l))}\")\n",
    "\n"
   ]
  },
  {
   "cell_type": "code",
   "execution_count": 110,
   "id": "61200125-ee1b-429e-a9d8-ebbaa864e571",
   "metadata": {},
   "outputs": [
    {
     "name": "stdout",
     "output_type": "stream",
     "text": [
      "List before squaring : [1, 2, 3, 4, 5, 6, 7, 8, 9, 10] \n",
      "List after squaring : [1, 4, 9, 16, 25, 36, 49, 64, 81, 100]\n"
     ]
    }
   ],
   "source": [
    "#Q2]Write a Python program that uses the `map()` function to square each element of a list of numbers.\n",
    "#creating a list l of numbers\n",
    "l = [i for i in range(1,11)]\n",
    "print(f\"List before squaring : {l} \\nList after squaring : {list(map(lambda x: x**2, l))}\")\n"
   ]
  },
  {
   "cell_type": "code",
   "execution_count": 111,
   "id": "7ad0eaca-d627-4d9c-be8b-6a5125a91632",
   "metadata": {},
   "outputs": [],
   "source": [
    "#Q3]How does the `map()` function differ from a list comprehension in Python, and when would you choose one over the other?\n",
    "#map() takes two inputs a function and an iterable. It returns an iterator\n",
    "#list comprehension creates a lists by applying an expression to each item in an iterable and filtering it based on conditions. It returns a list\n",
    "#I might choose map() when I want to apply a function to each element of an iterable, especially for simple transformations. \n",
    "#On the other hand, I might prefer list comprehensions for their readability, flexibility, and support for both transformation and filtering operations.\n"
   ]
  },
  {
   "cell_type": "code",
   "execution_count": 115,
   "id": "590075c0-c570-4670-a250-dd00111d1509",
   "metadata": {},
   "outputs": [
    {
     "name": "stdout",
     "output_type": "stream",
     "text": [
      "Original List : ['alex', 'jam', 'andrew', 'james', 'bond'] \n",
      "Modified List : ['ALEX', 'JAM', 'ANDREW', 'JAMES', 'BOND']\n"
     ]
    }
   ],
   "source": [
    "#Q4]Create a Python program that uses the `map()` function to convert a list of names to uppercase.\n",
    "#creating a list of names\n",
    "list_names = ['alex', 'jam', 'andrew', 'james', 'bond']\n",
    "print(f\"Original List : {list_names} \\nModified List : {list(map(lambda x:x.upper(),list_names))}\")\n"
   ]
  },
  {
   "cell_type": "code",
   "execution_count": 118,
   "id": "138a59d0-9d55-42cc-9173-680c13f5e8a3",
   "metadata": {},
   "outputs": [
    {
     "name": "stdout",
     "output_type": "stream",
     "text": [
      "Original List : ['Calculating', 'length', 'of', 'words'] \n",
      "Length List : [11, 6, 2, 5]\n"
     ]
    }
   ],
   "source": [
    "#Q5]Write a Python program that uses the `map()` function to calculate the length of each word in a list of strings.\n",
    "#creating a list of words\n",
    "list_words = ['Calculating', 'length', 'of', 'words']\n",
    "print(f\"Original List : {list_words} \\nLength List : {list(map(lambda x:len(x),list_words))}\")\n"
   ]
  },
  {
   "cell_type": "code",
   "execution_count": 131,
   "id": "94e0ea06-226d-4b30-896e-f8b4e6280c4e",
   "metadata": {},
   "outputs": [
    {
     "name": "stdout",
     "output_type": "stream",
     "text": [
      "Original List : \n",
      "['Calculating', 'length', 'of', 'words']\n",
      "['alex', 'jam', 'andrew', 'james', 'bond'] \n",
      "Length of pair List : [2, 2, 2, 2]\n"
     ]
    }
   ],
   "source": [
    "#Q6]How can you use the `map()` function to apply a custom function to elements of multiple lists simultaneously in Python?\n",
    "list_names = ['alex', 'jam', 'andrew', 'james', 'bond']\n",
    "list_words = ['Calculating', 'length', 'of', 'words']\n",
    "print(f\"Original List : \\n{list_words}\\n{list_names} \\nLength of pair List : {list(map(lambda *x:len(x),list_names,list_words))}\")\n"
   ]
  },
  {
   "cell_type": "code",
   "execution_count": 132,
   "id": "dde1571f-d806-4e39-bfd6-dd0a4528fcbb",
   "metadata": {},
   "outputs": [
    {
     "name": "stdout",
     "output_type": "stream",
     "text": [
      "Fahrenheit List : [32, 68, 77, 86, 104] \n",
      "Celsius List : [0.0, 20.0, 25.0, 30.0, 40.0]\n"
     ]
    }
   ],
   "source": [
    "#Q7]Create a Python program that uses `map()` to convert a list of temperatures from Celsius to Fahrenheit.\n",
    "# List of temperatures in Fahrenheit\n",
    "temperatures_fahrenheit = [32, 68, 77, 86, 104]\n",
    "print(f\"Fahrenheit List : {temperatures_fahrenheit} \\nCelsius List : {list(map(lambda temp:(temp - 32) / 1.8,temperatures_fahrenheit))}\")\n"
   ]
  },
  {
   "cell_type": "code",
   "execution_count": 137,
   "id": "f26fa824-32ba-485e-897a-01ee08f3687c",
   "metadata": {},
   "outputs": [
    {
     "name": "stdout",
     "output_type": "stream",
     "text": [
      "Floating Numbers List : [3.14, 2.718, 1.618, 4.669, 0.577] \n",
      "Rounded List : [3, 3, 2, 5, 1]\n"
     ]
    }
   ],
   "source": [
    "#Q8]Write a Python program that uses the `map()` function to round each element of a list of floating-point numbers to the nearest integer\n",
    "# List of floating-point numbers\n",
    "import math\n",
    "float_numbers = [3.14, 2.718, 1.618, 4.669, 0.577]\n",
    "print(f\"Floating Numbers List : {float_numbers} \\nRounded List : {list(map(round,float_numbers))}\")\n"
   ]
  },
  {
   "cell_type": "markdown",
   "id": "5a5173fd-c54f-476d-80f6-81619ce1bef7",
   "metadata": {},
   "source": [
    "Reduce :-"
   ]
  },
  {
   "cell_type": "code",
   "execution_count": 140,
   "id": "5f4bb933-b320-4a09-97da-097269890c07",
   "metadata": {},
   "outputs": [
    {
     "name": "stdout",
     "output_type": "stream",
     "text": [
      "list_num :\n",
      "[0, 1, 2, 3, 4, 5, 6, 7, 8, 9] \n",
      "Sum of numbers : 45\n"
     ]
    }
   ],
   "source": [
    "#Q1]What is the `reduce()` function in Python, and what module should you import to use it? Provide an example of its basic usage.\n",
    "#It takes two parameters function and a iteratble. It reduces a particular iterablle according to the function to a single value\n",
    "#from functools import reduce\n",
    "#finding the sum of numbers 1-10\n",
    "from functools import reduce\n",
    "list_num = [i for i in range(10)]\n",
    "print(f\"list_num :\\n{list_num} \\nSum of numbers : {reduce(lambda x,y: x+y, list_num)}\")\n"
   ]
  },
  {
   "cell_type": "code",
   "execution_count": 141,
   "id": "e38d40ab-bad5-465e-85b7-55de7a098ec7",
   "metadata": {},
   "outputs": [
    {
     "name": "stdout",
     "output_type": "stream",
     "text": [
      "list_num :\n",
      "[1, 2, 3, 4, 5, 6, 7, 8, 9, 10] \n",
      "Product of numbers : 3628800\n"
     ]
    }
   ],
   "source": [
    "#Q2]Write a Python program that uses the `reduce()` function to find the product of all elements in a list.\n",
    "from functools import reduce\n",
    "list_num = [i for i in range(1,11)]\n",
    "print(f\"list_num :\\n{list_num} \\nProduct of numbers : {reduce(lambda x,y: x*y, list_num)}\")\n"
   ]
  },
  {
   "cell_type": "code",
   "execution_count": 143,
   "id": "ea646111-3e42-413b-9b81-49d148b34822",
   "metadata": {},
   "outputs": [
    {
     "name": "stdout",
     "output_type": "stream",
     "text": [
      "list_num :\n",
      "[1, 2, 3, 4, 5, 6, 7, 8, 9, 10] \n",
      "Greatest Number : 10\n"
     ]
    }
   ],
   "source": [
    "#Q3]Create a Python program that uses `reduce()` to find the maximum element in a list of numbers.\n",
    "from functools import reduce\n",
    "list_num = [i for i in range(1,11)]\n",
    "print(f\"list_num :\\n{list_num} \\nGreatest Number : {reduce(lambda x,y: x if x>y else y, list_num)}\")\n"
   ]
  },
  {
   "cell_type": "code",
   "execution_count": 148,
   "id": "50c22c62-4fa0-4952-a947-3738a03a1940",
   "metadata": {},
   "outputs": [
    {
     "name": "stdout",
     "output_type": "stream",
     "text": [
      "Original List : ['alex', 'jam', 'andrew', 'james', 'bond'] \n",
      "List converted to String : alex jam andrew james bond\n"
     ]
    }
   ],
   "source": [
    "#Q4]How can you use the `reduce()` function to concatenate a list of strings into a single string?\n",
    "list_names = ['alex', 'jam', 'andrew', 'james', 'bond']\n",
    "print(f\"Original List : {list_names} \\nList converted to String : {reduce(lambda x,y:x+' '+y,list_names)}\")\n"
   ]
  },
  {
   "cell_type": "code",
   "execution_count": 158,
   "id": "7bdb7482-2b38-4331-bff0-7557b91d9db8",
   "metadata": {},
   "outputs": [
    {
     "name": "stdin",
     "output_type": "stream",
     "text": [
      "Enter the number you want factorial of 5\n"
     ]
    },
    {
     "name": "stdout",
     "output_type": "stream",
     "text": [
      "Factorial of 5 : 120\n"
     ]
    }
   ],
   "source": [
    "#Q5]Write a Python program that calculates the factorial of a number using the `reduce()` function.\n",
    "num = int(input(\"Enter the number you want factorial of\"))\n",
    "if num==0:\n",
    "    print(f\"Factorial : {num}\")\n",
    "else:\n",
    "    if num>0:\n",
    "        print(f\"Factorial of {num} : {reduce(lambda x,y : x*y, range(1,num+1))}\")\n"
   ]
  },
  {
   "cell_type": "code",
   "execution_count": 167,
   "id": "fcfae08e-63a6-48ab-8055-b9fecdefd452",
   "metadata": {},
   "outputs": [
    {
     "name": "stdout",
     "output_type": "stream",
     "text": [
      "GCD of numbers from 1 to 10: 1\n"
     ]
    }
   ],
   "source": [
    "#Q6]Create a Python program that uses `reduce()` to find the GCD (Greatest Common Divisor) of a list of numbers.\n",
    "from functools import reduce\n",
    "# Function to calculate the GCD of two numbers\n",
    "def gcd(x, y):\n",
    "    gcdn = 1\n",
    "    for n in range(1, min(x, y) + 1):\n",
    "        if x % n == 0 and y % n == 0:\n",
    "            gcdn = n\n",
    "    return gcdn\n",
    "\n",
    "# Calculate the GCD of numbers from 1 to 10 using reduce() and gcd() function\n",
    "gcd_of_numbers = reduce(gcd, range(1, 11))\n",
    "\n",
    "# Print the GCD\n",
    "print(\"GCD of numbers from 1 to 10:\", gcd_of_numbers)\n"
   ]
  },
  {
   "cell_type": "code",
   "execution_count": 161,
   "id": "49406353-3356-4584-8e27-0f3c3ffc24bf",
   "metadata": {},
   "outputs": [
    {
     "name": "stdin",
     "output_type": "stream",
     "text": [
      "Enter the number 190\n"
     ]
    },
    {
     "name": "stdout",
     "output_type": "stream",
     "text": [
      "10\n"
     ]
    }
   ],
   "source": [
    "#Q7]Write a Python program that uses the `reduce()` function to find the sum of the digits of a given number.\n",
    "num = input(\"Enter the number\")\n",
    "if num.isdigit():\n",
    "    if len(num)>1 :\n",
    "        print(f\"{reduce(lambda x,y:int(x)+int(y),num)}\")\n",
    "    else:\n",
    "        print(int(num))   \n",
    "else:\n",
    "    print(\"Enter digits\")\n",
    "    "
   ]
  },
  {
   "cell_type": "markdown",
   "id": "037640fe-5c8a-489c-b2bc-e0f6519e9dda",
   "metadata": {},
   "source": [
    "Filter :-"
   ]
  },
  {
   "cell_type": "code",
   "execution_count": 24,
   "id": "c59b9bc5-0b27-4592-86d8-9df31b080adb",
   "metadata": {},
   "outputs": [
    {
     "name": "stdout",
     "output_type": "stream",
     "text": [
      "Original List : [1, 2, 3, 4, 5, 6, 7, 8, 9, 10]\n",
      "Filtered List : [2, 4, 6, 8, 10]\n"
     ]
    }
   ],
   "source": [
    "#Q1]Explain the purpose of the `filter()` function in Python and provide an example of how it can be used to filter elements from an iterable.\n",
    "#It takes two parameters a function and an iterable. It filters the iterable according to the given function\n",
    "list_l = [i for i in range(1,11)]\n",
    "print(f\"Original List : {list_l}\\nFiltered List : {list(filter(lambda x: x%2==0, list_l))}\")"
   ]
  },
  {
   "cell_type": "code",
   "execution_count": 25,
   "id": "249a7087-4937-433d-b978-ad61fce0e5f3",
   "metadata": {},
   "outputs": [
    {
     "name": "stdout",
     "output_type": "stream",
     "text": [
      "Original List : [1, 2, 3, 4, 5, 6, 7, 8, 9, 10]\n",
      "Filtered List : [2, 4, 6, 8, 10]\n"
     ]
    }
   ],
   "source": [
    "#Q2]Write a Python program that uses the `filter()` function to select even numbers from a list of integers\n",
    "list_l = [i for i in range(1,11)]\n",
    "print(f\"Original List : {list_l}\\nFiltered List : {list(filter(lambda x: x%2==0, list_l))}\")"
   ]
  },
  {
   "cell_type": "code",
   "execution_count": 26,
   "id": "eda4980c-b8ec-4f54-96e0-716e25ef9b62",
   "metadata": {},
   "outputs": [
    {
     "name": "stdout",
     "output_type": "stream",
     "text": [
      "Original List : ['alex', 'jam', 'andrew', 'james', 'bond']\n",
      "Filtered List : ['alex', 'andrew']\n"
     ]
    }
   ],
   "source": [
    "#Q3]Create a Python program that uses the `filter()` function to select names that start with a specific letter from a list of strings.\n",
    "#creating a list of names\n",
    "list_names = ['alex', 'jam', 'andrew', 'james', 'bond']\n",
    "print(f\"Original List : {list_names}\\nFiltered List : {list(filter(lambda x: x.startswith('a'), list_names))}\")\n"
   ]
  },
  {
   "cell_type": "code",
   "execution_count": 29,
   "id": "1bf207f8-e264-4dca-b544-1ef7b46ef001",
   "metadata": {},
   "outputs": [
    {
     "name": "stdout",
     "output_type": "stream",
     "text": [
      "Original List : [1, 2, 3, 4, 5, 6, 7, 8, 9, 10]\n",
      "Filtered List : [2, 3, 5, 7]\n"
     ]
    }
   ],
   "source": [
    "#Q4]Write a Python program that uses the `filter()` function to select prime numbers from a list of integers.\n",
    "def prime(x):\n",
    "    c = 0\n",
    "    for i in range(1,x+1):\n",
    "        if x%i==0:\n",
    "            c+=1\n",
    "    if c==2:\n",
    "        return x\n",
    "          \n",
    "list_l = [i for i in range(1,11)]\n",
    "print(f\"Original List : {list_l}\\nFiltered List : {list(filter(lambda x:prime(x), list_l))}\")\n"
   ]
  },
  {
   "cell_type": "code",
   "execution_count": 37,
   "id": "fe064bc1-e7b3-42a1-b4bd-26a8c7763ffc",
   "metadata": {},
   "outputs": [
    {
     "name": "stdout",
     "output_type": "stream",
     "text": [
      "Original List : ['alex', 'jam', 'andrew', 'james', 'bond']\n",
      "Filtered List : [10, 20, 30, 40, 50]\n"
     ]
    }
   ],
   "source": [
    "#Q5]How can you use the `filter()` function to remove None values from a list in Python?\n",
    "list_none = [None, 10, 20, None, 30, 40, 50]\n",
    "print(f\"Original List : {list_names}\\nFiltered List : {list(filter(lambda x: x!=None, list_none))}\")\n"
   ]
  },
  {
   "cell_type": "code",
   "execution_count": 40,
   "id": "5ab56087-a657-482a-9dea-b735845e7c13",
   "metadata": {},
   "outputs": [
    {
     "name": "stdout",
     "output_type": "stream",
     "text": [
      "Original List : ['alex', 'jam', 'andrew', 'james', 'bond']\n",
      "Filtered List : ['andrew', 'james']\n"
     ]
    }
   ],
   "source": [
    "#Q6]Create a Python program that uses `filter()` to select words longer than a certain length from a list of strings.\n",
    "list_names = ['alex', 'jam', 'andrew', 'james', 'bond']\n",
    "print(f\"Original List : {list_names}\\nFiltered List : {list(filter(lambda x: len(x)>4, list_names))}\")\n"
   ]
  },
  {
   "cell_type": "code",
   "execution_count": 41,
   "id": "7b45f5f6-0e65-4805-90d1-738d1856dc43",
   "metadata": {},
   "outputs": [
    {
     "name": "stdout",
     "output_type": "stream",
     "text": [
      "Original List : [25, 26, 27, 28, 29, 30, 31, 32, 33, 34, 35, 36, 37, 38, 39, 40]\n",
      "Filtered List : [36, 37, 38, 39, 40]\n"
     ]
    }
   ],
   "source": [
    "#Q7]Write a Python program that uses the `filter()` function to select elements greater than a specified threshold from a list of values.\n",
    "list_num = [i for i in range(25,41)]\n",
    "print(f\"Original List : {list_num}\\nFiltered List : {list(filter(lambda x: x>35, list_num))}\")\n"
   ]
  },
  {
   "cell_type": "markdown",
   "id": "fb79e6ea-7780-4bc1-8369-9299132357ec",
   "metadata": {},
   "source": [
    "Recursion:-"
   ]
  },
  {
   "cell_type": "code",
   "execution_count": 42,
   "id": "a5d3db17-b331-47d2-b15c-664cfc4faaf0",
   "metadata": {},
   "outputs": [],
   "source": [
    "#Q1]Explain the concept of recursion in Python. How does it differ from iteration?\n",
    "#In recursion the function calls itself endlessly. Recursion involves solving a problem by breaking it down into smaller instances of the same problem.\n",
    "#We can terminate it by inserting a base case inside the function and loop it by inserting the recursive case where the functioncalls itself\n",
    "#Iteration involves repeatedly executing a set of instructions or statements a specified number of times or until a condition is met\n",
    "#While in iteration particularly a built in function called iter() and next() are called internally inside the loop. iter() converts an iterator to an iterable which can be iterated by calling next()\n"
   ]
  },
  {
   "cell_type": "code",
   "execution_count": 44,
   "id": "03819577-9559-4004-802f-3c390eaa5c06",
   "metadata": {},
   "outputs": [
    {
     "name": "stdin",
     "output_type": "stream",
     "text": [
      "Enter the number 5\n"
     ]
    },
    {
     "name": "stdout",
     "output_type": "stream",
     "text": [
      "Factorial of 5 : 120\n"
     ]
    }
   ],
   "source": [
    "#Q2]Write a Python program to calculate the factorial of a number using recursion.\n",
    "\n",
    "def fact(n):\n",
    "    #base case\n",
    "    if n==0:\n",
    "        return 1\n",
    "    #recursive case\n",
    "    return n*fact(n-1)\n",
    "n = int(input(\"Enter the number\"))\n",
    "print(f\"Factorial of {n} : {fact(n)}\")\n"
   ]
  },
  {
   "cell_type": "code",
   "execution_count": 51,
   "id": "fd256c44-7cea-466c-a38d-ac3938462de0",
   "metadata": {},
   "outputs": [
    {
     "name": "stdin",
     "output_type": "stream",
     "text": [
      "Enter the number 5\n"
     ]
    },
    {
     "name": "stdout",
     "output_type": "stream",
     "text": [
      "5th Fibonacci Number : 5\n"
     ]
    }
   ],
   "source": [
    "#Q3]Create a recursive Python function to find the nth Fibonacci number.\n",
    "\n",
    "def fib(n):\n",
    "    #base case\n",
    "    if n==0 or n==1:\n",
    "        return n\n",
    "    #recursive case\n",
    "    return fib(n-2)+fib(n-1)\n",
    "n = int(input(\"Enter the number\"))\n",
    "print(f\"{n}th Fibonacci Number : {fib(n)}\")"
   ]
  },
  {
   "cell_type": "code",
   "execution_count": 55,
   "id": "1b93392f-9d6f-47c6-8a91-f53bb483a03d",
   "metadata": {},
   "outputs": [
    {
     "name": "stdout",
     "output_type": "stream",
     "text": [
      "Sum of [0, 1, 2, 3, 4, 5, 6, 7, 8, 9] : 45\n"
     ]
    }
   ],
   "source": [
    "#Q4]Write a recursive Python function to calculate the sum of all elements in a list.\n",
    "\n",
    "def sum_list(l):\n",
    "    #base case\n",
    "    if len(l)==1:\n",
    "        return l[0]\n",
    "    #recursive case\n",
    "    return l[0]+sum_list(l[1:])\n",
    "l = [i for i in range(10)]\n",
    "print(f\"Sum of {l} : {sum_list(l)}\")\n"
   ]
  },
  {
   "cell_type": "code",
   "execution_count": 56,
   "id": "ae6dfb93-a38c-4693-be85-49632a10fbd4",
   "metadata": {},
   "outputs": [],
   "source": [
    "#Q5]How can you prevent a recursive function from running indefinitely, causing a stack overflow error?\n",
    "#we can prevent it by putting a base case where the function will terminate and wont run indefinitely causing a stack overflow error\n"
   ]
  },
  {
   "cell_type": "code",
   "execution_count": 63,
   "id": "5c4b1b71-79ca-4321-8a93-bf9f3f93ed76",
   "metadata": {},
   "outputs": [
    {
     "name": "stdin",
     "output_type": "stream",
     "text": [
      "Enter the number 6\n",
      "Enter the number 12\n"
     ]
    },
    {
     "name": "stdout",
     "output_type": "stream",
     "text": [
      "GCD of 6 and 12 : 6\n"
     ]
    }
   ],
   "source": [
    "#Q6]Create a recursive Python function to find the greatest common divisor (GCD) of two numbers using the Euclidean algorithm.\n",
    "\n",
    "def gcd(n1,n2,c):\n",
    "    if c==1:\n",
    "        return c\n",
    "    elif n1%c==0 and n2%c==0:\n",
    "        return c\n",
    "    else:\n",
    "        return gcd(n1,n2,c= c-1)\n",
    "n1,n2 = int(input(\"Enter the number\")), int(input(\"Enter the number\"))\n",
    "print(f\"GCD of {n1} and {n2} : {gcd(n1,n2,c=min(n1,n2))}\")\n",
    "    \n",
    "        "
   ]
  },
  {
   "cell_type": "code",
   "execution_count": 65,
   "id": "2e25be2d-7a6e-4ee0-b31e-0a7e6c7a5bc2",
   "metadata": {},
   "outputs": [
    {
     "name": "stdin",
     "output_type": "stream",
     "text": [
      "Enter the string hello\n"
     ]
    },
    {
     "name": "stdout",
     "output_type": "stream",
     "text": [
      "Reverse of hello : olleh\n"
     ]
    }
   ],
   "source": [
    "#Q7]Write a recursive Python function to reverse a string.\n",
    "def rev_str(string):\n",
    "    if len(string)==1:\n",
    "        return string\n",
    "    return string[-1]+rev_str(string[:-1])\n",
    "string = input(\"Enter the string\")\n",
    "print(f\"Reverse of {string} : {rev_str(string)}\")"
   ]
  },
  {
   "cell_type": "code",
   "execution_count": 67,
   "id": "9644db5c-036e-41d6-8316-ab8b99c41b68",
   "metadata": {},
   "outputs": [
    {
     "name": "stdin",
     "output_type": "stream",
     "text": [
      "Enter the number 2\n",
      "Enter the nth power 4\n"
     ]
    },
    {
     "name": "stdout",
     "output_type": "stream",
     "text": [
      "4th power of 2 : 16\n"
     ]
    }
   ],
   "source": [
    "#Q8]Create a recursive Python function to calculate the power of a number (x^n).\n",
    "def product(x,n):\n",
    "    #base case\n",
    "    if n==1:\n",
    "        return x\n",
    "    #recursive case\n",
    "    return x*product(x,n-1)\n",
    "x,n = int(input('Enter the number')), int(input(\"Enter the nth power\"))\n",
    "print(f\"{n}th power of {x} : {product(x,n)}\")"
   ]
  },
  {
   "cell_type": "code",
   "execution_count": 22,
   "id": "12ede173-1499-4514-9a61-a0f81e5d3159",
   "metadata": {},
   "outputs": [
    {
     "name": "stdout",
     "output_type": "stream",
     "text": [
      "Permutations of abc : ['abc', 'acb', 'bac', 'bca', 'cab', 'cba']\n"
     ]
    }
   ],
   "source": [
    "#Q9]Write a recursive Python function to find all permutations of a given string.\n",
    "def permutations(string):\n",
    "    if len(string) <= 1:\n",
    "        return [string]\n",
    "    else:\n",
    "        perms = []\n",
    "        for i, char in enumerate(string):\n",
    "            for perm in permutations(string[:i] + string[i+1:]):\n",
    "                perms.append(char + perm)\n",
    "        return perms\n",
    "\n",
    "# Example usage:\n",
    "input_string = \"abc\"\n",
    "print(\"Permutations of\", input_string, \":\", permutations(input_string))\n"
   ]
  },
  {
   "cell_type": "code",
   "execution_count": 69,
   "id": "02f2df09-47a0-4587-b181-5f240cdcfa2d",
   "metadata": {},
   "outputs": [
    {
     "name": "stdout",
     "output_type": "stream",
     "text": [
      "radar is a palindrome: True\n"
     ]
    }
   ],
   "source": [
    "#Q10]\n",
    "def is_palindrome(string):\n",
    "    if len(string) <= 1:\n",
    "        return True\n",
    "    if string[0] != string[-1]:\n",
    "        return False\n",
    "    return is_palindrome(string[1:-1])\n",
    "\n",
    "# Example usage:\n",
    "string = \"radar\"\n",
    "print(string, \"is a palindrome:\", is_palindrome(string))\n"
   ]
  },
  {
   "cell_type": "code",
   "execution_count": 24,
   "id": "74c554a9-8544-410b-b8bb-525f4de03df3",
   "metadata": {},
   "outputs": [
    {
     "name": "stdout",
     "output_type": "stream",
     "text": [
      "Combinations of [1, 2, 3] : [[], [1], [2], [1, 2], [3], [1, 3], [2, 3], [1, 2, 3]]\n"
     ]
    }
   ],
   "source": [
    "#Q11]Create a recursive Python function to generate all possible combinations of a list of elements.\n",
    "def combinations(elements):\n",
    "    if len(elements) == 0:\n",
    "        return [[]]  # Return an empty list as the base case\n",
    "    else:\n",
    "        combos = []\n",
    "        first_element = elements[0]\n",
    "        remaining_elements = elements[1:]\n",
    "        # Recursively generate combinations without the first element\n",
    "        without_first = combinations(remaining_elements)\n",
    "        # Combine each generated combination with the first element\n",
    "        for combo in without_first:\n",
    "            combos.append(combo)  # Combination without the first element\n",
    "            combos.append([first_element] + combo)  # Combination with the first element\n",
    "        return combos\n",
    "\n",
    "# Example usage:\n",
    "input_list = [1, 2, 3]\n",
    "print(\"Combinations of\", input_list, \":\", combinations(input_list))\n"
   ]
  },
  {
   "cell_type": "markdown",
   "id": "34800863-3853-430f-9e6b-abc1f8a46350",
   "metadata": {},
   "source": [
    "Basics of Functions:"
   ]
  },
  {
   "cell_type": "code",
   "execution_count": 75,
   "id": "81429916-207e-45c6-9ee7-c2d48fa69af7",
   "metadata": {},
   "outputs": [],
   "source": [
    "#Q1]What is a function in Python, and why is it used?\n",
    "#A function in python is a block of code that performs a specific task which can be reused again and agian n number of time\n",
    "#we use it for its reusability \n",
    "#Syntax:\n",
    "# def funcname(parameter):\n",
    "#     statements\n",
    "#     return result"
   ]
  },
  {
   "cell_type": "code",
   "execution_count": 76,
   "id": "a5d97cf0-61e9-4d69-87aa-4bc05feb604d",
   "metadata": {},
   "outputs": [
    {
     "name": "stdout",
     "output_type": "stream",
     "text": [
      "hello world\n"
     ]
    }
   ],
   "source": [
    "#Q2]How do you define a function in Python? Provide an example.\n",
    "#Syntax:\n",
    "# def funcname(parameter):\n",
    "#     statements\n",
    "#     return result\n",
    "def func1():\n",
    "    return \"hello world\"\n",
    "print(func1())"
   ]
  },
  {
   "cell_type": "code",
   "execution_count": 81,
   "id": "ef7cf45a-f350-4919-a1a2-94d99d71bb42",
   "metadata": {},
   "outputs": [
    {
     "data": {
      "text/plain": [
       "'hello world'"
      ]
     },
     "execution_count": 81,
     "metadata": {},
     "output_type": "execute_result"
    }
   ],
   "source": [
    "#Q3]Explain the difference between a function definition and a function call.\n",
    "\n",
    "#Syntax:\n",
    "# def funcname(parameter):\n",
    "#     statements\n",
    "#     return result\n",
    "#A function definition is where you define the structure and behavior of a function. It includes the def keyword followed by the function name, parameters (if any), and a colon.\n",
    "#this is function definition\n",
    "def func1():\n",
    "    return \"hello world\"\n",
    "#A function call is when you actually invoke or execute a function that has been defined elsewhere in your code. It involves using the function name followed by parentheses, optionally passing any required arguments inside the parentheses. This is where you \"activate\" the function and make it do its work.\n",
    "#This is a function call\n",
    "func1()"
   ]
  },
  {
   "cell_type": "code",
   "execution_count": 85,
   "id": "1ae0b285-5bb2-4162-8a24-76dee76bac55",
   "metadata": {},
   "outputs": [
    {
     "name": "stdin",
     "output_type": "stream",
     "text": [
      "Enter the number 2\n",
      "Enter the number 8\n"
     ]
    },
    {
     "data": {
      "text/plain": [
       "10.0"
      ]
     },
     "execution_count": 85,
     "metadata": {},
     "output_type": "execute_result"
    }
   ],
   "source": [
    "#Q4]Write a Python program that defines a function to calculate the sum of two numbers and then calls the function.\n",
    "\n",
    "def sum_num(x=float,y=float):\n",
    "    return x+y\n",
    "sum_num(float(input(\"Enter the number\")),float(input(\"Enter the number\")))\n"
   ]
  },
  {
   "cell_type": "code",
   "execution_count": 83,
   "id": "19787e31-ce09-4783-b082-e4d31995a569",
   "metadata": {},
   "outputs": [],
   "source": [
    "#Q5]What is a function signature, and what information does it typically include?\n",
    "#funtion signature also known as docstring includes the details like the unique ifentifier of the function, parameters that can be passed and return type\n",
    "def calculate_area(radius):\n",
    "    \"\"\"\n",
    "    Calculates the area of a circle given its radius.\n",
    "\n",
    "    Parameters:\n",
    "        radius (float): The radius of the circle.\n",
    "\n",
    "    Returns:\n",
    "        float: The area of the circle.\n",
    "    \"\"\"\n",
    "    # Function body goes here\n",
    "    pass\n"
   ]
  },
  {
   "cell_type": "code",
   "execution_count": 84,
   "id": "04b1e6e5-49a0-41fc-825c-c1b197db32a0",
   "metadata": {},
   "outputs": [
    {
     "name": "stdin",
     "output_type": "stream",
     "text": [
      "Enter the number 5\n",
      "Enter the number 2\n"
     ]
    },
    {
     "data": {
      "text/plain": [
       "10.0"
      ]
     },
     "execution_count": 84,
     "metadata": {},
     "output_type": "execute_result"
    }
   ],
   "source": [
    "#Q6]Create a Python function that takes two arguments and returns their product.\n",
    "\n",
    "def product(x=float,y=float):\n",
    "    return x*y\n",
    "product(float(input(\"Enter the number\")), float(input(\"Enter the number\")))\n",
    "\n"
   ]
  },
  {
   "cell_type": "markdown",
   "id": "16ec4e05-de02-4c3a-be15-9b7af9a3e50a",
   "metadata": {},
   "source": [
    "Function Parameters and Arguments:"
   ]
  },
  {
   "cell_type": "code",
   "execution_count": 86,
   "id": "7d4e8eb6-0de7-4bb2-9247-e91cb4c5d844",
   "metadata": {},
   "outputs": [
    {
     "name": "stdin",
     "output_type": "stream",
     "text": [
      "Enter the number 2\n",
      "Enter the number 3\n"
     ]
    },
    {
     "data": {
      "text/plain": [
       "6.0"
      ]
     },
     "execution_count": 86,
     "metadata": {},
     "output_type": "execute_result"
    }
   ],
   "source": [
    "#Q1]Explain the concepts of formal parameters and actual arguments in Python functions.\n",
    "#Formal parameters are placeholders in a function definition that represent the inputs it expects, while actual arguments are the values passed to these parameters when the function is called, providing specific data for the function to operate on.\n",
    "#formal parameters\n",
    "def product(x=float,y=float):\n",
    "    return x*y\n",
    "#actual parameters\n",
    "product(float(input(\"Enter the number\")), float(input(\"Enter the number\")))\n",
    "\n"
   ]
  },
  {
   "cell_type": "code",
   "execution_count": 91,
   "id": "2d1aabb0-0cce-4971-aeaa-6e834a93479c",
   "metadata": {},
   "outputs": [
    {
     "name": "stdout",
     "output_type": "stream",
     "text": [
      "Product with default values: 1\n"
     ]
    },
    {
     "name": "stdin",
     "output_type": "stream",
     "text": [
      "Enter the value of x:  2\n",
      "Enter the value of y:  3\n"
     ]
    },
    {
     "name": "stdout",
     "output_type": "stream",
     "text": [
      "Product with user input values: 6.0\n"
     ]
    }
   ],
   "source": [
    "#Q2]Write a Python program that defines a function with default argument values.\n",
    "#default argument values\n",
    "def product(x=1, y=1):\n",
    "    return x * y\n",
    "\n",
    "# Call the function without providing any arguments (using default values)\n",
    "result = product()\n",
    "print(\"Product with default values:\", result)\n",
    "\n",
    "# Alternatively, you can still provide arguments if you want to override the default values\n",
    "x_value = float(input(\"Enter the value of x: \"))\n",
    "y_value = float(input(\"Enter the value of y: \"))\n",
    "result = product(x_value, y_value)\n",
    "print(\"Product with user input values:\", result)\n"
   ]
  },
  {
   "cell_type": "code",
   "execution_count": 94,
   "id": "00727892-304b-4c99-9447-f67223c94b3c",
   "metadata": {},
   "outputs": [
    {
     "data": {
      "text/plain": [
       "20"
      ]
     },
     "execution_count": 94,
     "metadata": {},
     "output_type": "execute_result"
    }
   ],
   "source": [
    "#Q3]How do you use keyword arguments in Python function calls? Provide an example.\n",
    "def product(x,y):\n",
    "    return x*y\n",
    "#Calling the function with keyword arguments\n",
    "product(y=2,x=10)\n"
   ]
  },
  {
   "cell_type": "code",
   "execution_count": 95,
   "id": "0918daec-b15f-4470-a435-b3b31bbedf56",
   "metadata": {},
   "outputs": [
    {
     "data": {
      "text/plain": [
       "26"
      ]
     },
     "execution_count": 95,
     "metadata": {},
     "output_type": "execute_result"
    }
   ],
   "source": [
    "#Q4]Create a Python function that accepts a variable number of arguments and calculates their sum.\n",
    "def sum_nums(*args):\n",
    "    return sum(args)\n",
    "#calling the function with variable arguments\n",
    "sum_nums(1,3,4,5,6,7)"
   ]
  },
  {
   "cell_type": "code",
   "execution_count": 97,
   "id": "278ac1b9-c529-47c0-ac12-3a4c8014c253",
   "metadata": {},
   "outputs": [
    {
     "name": "stdout",
     "output_type": "stream",
     "text": [
      "Positional arguments (*args): (1, 2, 3)\n",
      "Keyword arguments (**kwargs): {'name': 'Alice', 'age': 30}\n"
     ]
    }
   ],
   "source": [
    "#Q5]What is the purpose of the `*args` and `**kwargs` syntax in function parameter lists?\n",
    "#**kwargs takes n number of dictionary inputs\n",
    "#*args takes n number positional arguments\n",
    "def example_function(*args, **kwargs):\n",
    "    print(\"Positional arguments (*args):\", args)\n",
    "    print(\"Keyword arguments (**kwargs):\", kwargs)\n",
    "\n",
    "# Calling the function with different types of arguments\n",
    "example_function(1, 2, 3, name=\"Alice\", age=30)\n"
   ]
  },
  {
   "cell_type": "markdown",
   "id": "50501121-724a-45e9-82cd-53ddb235ff61",
   "metadata": {},
   "source": [
    "Return Values and Scoping:"
   ]
  },
  {
   "cell_type": "code",
   "execution_count": 99,
   "id": "a66a9e7a-bf7a-4ccc-a8e6-3fb5dc7e26a5",
   "metadata": {},
   "outputs": [
    {
     "name": "stdout",
     "output_type": "stream",
     "text": [
      "25\n"
     ]
    }
   ],
   "source": [
    "#Q1]Describe the role of the `return` statement in Python functions and provide examples.\n",
    "\n",
    "#return statement in python return the result of the function whicn can be further used in the program\n",
    "def sum_nums(*args):\n",
    "    return sum(args)\n",
    "#calling the function with variable arguments\n",
    "x=sum_nums(1,3,4,5,6,7)\n",
    "#here we used the result from the function and manipulated it\n",
    "print(x-1)"
   ]
  },
  {
   "cell_type": "code",
   "execution_count": 106,
   "id": "2cbe24ce-960b-4a11-b1c9-8059c4ebd4f4",
   "metadata": {},
   "outputs": [],
   "source": [
    "#Q2]Explain the concept of variable scope in Python, including local and global variables.\n",
    "\n",
    "#scope of local variable tend to be inside a particular function only. They cannot be accessed outside the function\n",
    "#global variables can be used anywhere in a python program, even inside a function\n",
    "\n"
   ]
  },
  {
   "cell_type": "code",
   "execution_count": 110,
   "id": "586e72ee-ab97-413b-bf16-facafd8f26ee",
   "metadata": {},
   "outputs": [
    {
     "data": {
      "text/plain": [
       "15"
      ]
     },
     "execution_count": 110,
     "metadata": {},
     "output_type": "execute_result"
    }
   ],
   "source": [
    "#Q3]Write a Python program that demonstrates the use of global variables within functions.\n",
    "#here we are accesing th global variable inside a function\n",
    "x = 10\n",
    "def sum_num(y):\n",
    "    return x + y\n",
    "sum_num(5)"
   ]
  },
  {
   "cell_type": "code",
   "execution_count": 108,
   "id": "acba5a9a-8f5e-4988-85dc-07bcc7c4ea59",
   "metadata": {},
   "outputs": [
    {
     "name": "stdin",
     "output_type": "stream",
     "text": [
      "Enter the number 5\n"
     ]
    },
    {
     "data": {
      "text/plain": [
       "120"
      ]
     },
     "execution_count": 108,
     "metadata": {},
     "output_type": "execute_result"
    }
   ],
   "source": [
    "#Q4]Create a Python function that calculates the factorial of a number and returns it.\n",
    "def fact(n):\n",
    "    if n==1:\n",
    "        return n\n",
    "    return n*fact(n-1)\n",
    "fact(int(input(\"Enter the number\")))\n"
   ]
  },
  {
   "cell_type": "code",
   "execution_count": 111,
   "id": "2894bc60-bc9b-4b43-8255-47c8e801c774",
   "metadata": {},
   "outputs": [
    {
     "name": "stdout",
     "output_type": "stream",
     "text": [
      "Global variable inside function: 10\n"
     ]
    }
   ],
   "source": [
    "#Q5]How can you access variables defined outside a function from within the function?\n",
    "# Global variable\n",
    "global_var = 10\n",
    "\n",
    "def example_function():\n",
    "    # Accessing global variable inside the function\n",
    "    global global_var\n",
    "    print(\"Global variable inside function:\", global_var)\n",
    "\n",
    "# Call the function\n",
    "example_function()\n"
   ]
  },
  {
   "cell_type": "markdown",
   "id": "b2a7bcd2-99f2-4bab-b0f7-306f31945486",
   "metadata": {},
   "source": [
    "Lambda Functions and Higher-Order Functions"
   ]
  },
  {
   "cell_type": "code",
   "execution_count": 112,
   "id": "5ae2b983-d319-4c63-806e-9cda145c7345",
   "metadata": {},
   "outputs": [],
   "source": [
    "#Q1]What are lambda functions in Python, and when are they typically used?\n",
    "#lambda functions are one liner anonymous functions that dont have any name and can be used to write simple and even complex logics. It is typyically used with map(),filter() and reduce()\n",
    "#example:\n",
    "a = lambda x : x\n"
   ]
  },
  {
   "cell_type": "code",
   "execution_count": 7,
   "id": "fd385ab7-635f-466c-ba35-2c41fcfdc003",
   "metadata": {},
   "outputs": [
    {
     "name": "stdout",
     "output_type": "stream",
     "text": [
      "[(2, 'a'), (1, 'b'), (3, 'c'), (4, 'd'), (5, 'e')]\n"
     ]
    }
   ],
   "source": [
    "#Q2]Write a Python program that uses lambda functions to sort a list of tuples based on the second element.\n",
    "# Creating a list of tuples\n",
    "list_of_tuples = [(1, 'b'), (2, 'a'), (3, 'c'), (4, 'd'), (5, 'e')]\n",
    "print(sorted(list_of_tuples, key=lambda x:x[1]))\n"
   ]
  },
  {
   "cell_type": "code",
   "execution_count": 116,
   "id": "5e83f751-9d31-4a6a-81b5-fb4f1d38549b",
   "metadata": {},
   "outputs": [
    {
     "name": "stdout",
     "output_type": "stream",
     "text": [
      "List before multiplication : [1, 2, 3, 4] \n",
      "List after multiplication : [2, 4, 6, 8]\n"
     ]
    }
   ],
   "source": [
    "#Q3]Explain the concept of higher-order functions in Python, and provide an example.\n",
    "#Higher-order functions in Python are functions that can take other functions as arguments or return functions as results. \n",
    "#They enable functional programming paradigms and allow for more flexible and concise code. An example is the built-in `map()` function, which applies a given function to each item in an iterable.\n",
    "list_l = [1,2,3,4]\n",
    "print(f\"List before multiplication : {list_l} \\nList after multiplication : {list(map(lambda x: x*2, list_l))}\")\n",
    "\n"
   ]
  },
  {
   "cell_type": "code",
   "execution_count": 131,
   "id": "4c9a2fa9-cd0c-4aa3-958e-bfedcce1ecde",
   "metadata": {},
   "outputs": [
    {
     "name": "stdout",
     "output_type": "stream",
     "text": [
      "Result list: [1, 4, 9]\n"
     ]
    }
   ],
   "source": [
    "#Q4]Create a Python function that takes a list of numbers and a function as arguments, applying the function to each element in the list.\n",
    "func = lambda x: x**2\n",
    "\n",
    "def apply_function(func, numbers):\n",
    "    result = []\n",
    "    for num in numbers:\n",
    "        result.append(func(num))\n",
    "    return result\n",
    "\n",
    "numbers = [1, 2, 3]\n",
    "result_list = apply_function(func, numbers)\n",
    "print(\"Result list:\", result_list)\n"
   ]
  },
  {
   "cell_type": "markdown",
   "id": "12ee8774-7200-4a54-a1eb-0c72897a546e",
   "metadata": {},
   "source": [
    "Lambda Functions and Higher-Order Functions:"
   ]
  },
  {
   "cell_type": "markdown",
   "id": "56045372-78ef-4f4c-b5a1-07d27936394b",
   "metadata": {},
   "source": [
    "Built-in Functions:"
   ]
  },
  {
   "cell_type": "code",
   "execution_count": 10,
   "id": "b1bd617e-7283-4068-8377-5a4b8909ea32",
   "metadata": {},
   "outputs": [],
   "source": [
    "#Q1]Describe the role of built-in functions like `len()`, `max()`, and `min()` in Python.\n",
    "#len() return the length of the vairable or you can say it returns the number of items in the container\n",
    "#max() With a single iterable argument, return its biggest item. The default keyword-only argument specifies an object to return if the provided iterable is empty. With two or more arguments, return the largest argument.\n",
    "#min()With a single iterable argument, return its smallest item. The default keyword-only argument specifies an object to return if the provided iterable is empty. With two or more arguments, return the smallest argument.\n"
   ]
  },
  {
   "cell_type": "code",
   "execution_count": 17,
   "id": "4ad67f16-e67f-4b5d-a7f2-bb4f066e1069",
   "metadata": {},
   "outputs": [
    {
     "name": "stdout",
     "output_type": "stream",
     "text": [
      "Original List : ['Calculating', 'length', 'of', 'words'] \n",
      "Length List : [11, 6, 2, 5]\n"
     ]
    }
   ],
   "source": [
    "#Q2]Write a Python program that uses the `map()` function to apply a function to each element of a list.\n",
    "list_words = ['Calculating', 'length', 'of', 'words']\n",
    "print(f\"Original List : {list_words} \\nLength List : {list(map(lambda x:len(x),list_words))}\")\n",
    "\n"
   ]
  },
  {
   "cell_type": "code",
   "execution_count": 18,
   "id": "89e52cb6-61f9-4094-a784-76112bf87ff3",
   "metadata": {},
   "outputs": [
    {
     "name": "stdout",
     "output_type": "stream",
     "text": [
      "Original List : [1, 2, 3, 4, 5, 6, 7, 8, 9, 10]\n",
      "Filtered List : [2, 4, 6, 8, 10]\n"
     ]
    }
   ],
   "source": [
    "#Q3]How does the `filter()` function work in Python, and when would you use it?\n",
    "#You use it when u want to filter the iterable\n",
    "#It takes two parameters a function and an iterable. It filters the iterable according to the given function\n",
    "list_l = [i for i in range(1,11)]\n",
    "print(f\"Original List : {list_l}\\nFiltered List : {list(filter(lambda x: x%2==0, list_l))}\")\n"
   ]
  },
  {
   "cell_type": "code",
   "execution_count": 19,
   "id": "35cdcf80-b0a1-446a-a119-f1c3e578a761",
   "metadata": {},
   "outputs": [
    {
     "name": "stdout",
     "output_type": "stream",
     "text": [
      "list_num :\n",
      "[1, 2, 3, 4, 5, 6, 7, 8, 9, 10] \n",
      "Product of numbers : 3628800\n"
     ]
    }
   ],
   "source": [
    "#Q4]Create a Python program that uses the `reduce()` function to find the product of all elements in a list.\n",
    "from functools import reduce\n",
    "list_num = [i for i in range(1,11)]\n",
    "print(f\"list_num :\\n{list_num} \\nProduct of numbers : {reduce(lambda x,y: x*y, list_num)}\")\n"
   ]
  },
  {
   "cell_type": "markdown",
   "id": "37db306e-d4ec-4460-86e0-6b62cc05a24b",
   "metadata": {},
   "source": [
    "Function Documentation and Best Practices"
   ]
  },
  {
   "cell_type": "code",
   "execution_count": 20,
   "id": "2448fe88-66e4-4f05-b21a-c3ace7fa9602",
   "metadata": {},
   "outputs": [],
   "source": [
    "#Q1]Explain the purpose of docstrings in Python functions and how to write them.\n",
    "#Docstrings in Python functions serve the purpose of documenting the functionality, usage, and parameters of the function. \n",
    "#They provide a convenient way to explain what a function does and how to use it, making it easier for other programmers (or even yourself in the future) to understand and utilize the function correctly.\n",
    "#Example:\n",
    "def my_function(param1, param2):\n",
    "    \"\"\"\n",
    "    This is a docstring for my_function.\n",
    "\n",
    "    Parameters:\n",
    "    param1 (type): Description of param1.\n",
    "    param2 (type): Description of param2.\n",
    "\n",
    "    Returns:\n",
    "    type: Description of the return value.\n",
    "    \"\"\"\n",
    "    # Function implementation goes here\n"
   ]
  },
  {
   "cell_type": "code",
   "execution_count": 21,
   "id": "8bd86245-46e0-4a1f-9efb-6769e9c7d9c3",
   "metadata": {},
   "outputs": [],
   "source": [
    "#Q2]Describe some best practices for naming functions and variables in Python, including naming conventions and guidelines\n",
    "\n",
    "#use names that describe the purpose of the function\n",
    "#Stick to Python's naming conventions, such as using lowercase with underscores for variable names (my_variable) and lowercase with underscores or lowercase letters for function names (my_function).\n",
    "#Maintain consistency in naming across your codebase to make it easier for yourself and others to understand and maintain the code.\n",
    "\n"
   ]
  },
  {
   "cell_type": "code",
   "execution_count": null,
   "id": "2e904e8a-05d3-4f6f-a09d-e1480595aa9b",
   "metadata": {},
   "outputs": [],
   "source": []
  }
 ],
 "metadata": {
  "kernelspec": {
   "display_name": "Python 3 (ipykernel)",
   "language": "python",
   "name": "python3"
  },
  "language_info": {
   "codemirror_mode": {
    "name": "ipython",
    "version": 3
   },
   "file_extension": ".py",
   "mimetype": "text/x-python",
   "name": "python",
   "nbconvert_exporter": "python",
   "pygments_lexer": "ipython3",
   "version": "3.10.8"
  }
 },
 "nbformat": 4,
 "nbformat_minor": 5
}
